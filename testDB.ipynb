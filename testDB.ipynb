{
 "cells": [
  {
   "cell_type": "code",
   "execution_count": 9,
   "metadata": {},
   "outputs": [
    {
     "name": "stdout",
     "output_type": "stream",
     "text": [
      "Opened database successfully\n"
     ]
    }
   ],
   "source": [
    "import psycopg2\n",
    "\n",
    "conn = psycopg2.connect(database=\"testdb\", user=\"postgres\", password=\"tableau123\", host=\"localhost\", port=\"5432\")\n",
    "\n",
    "print(\"Opened database successfully\")"
   ]
  },
  {
   "cell_type": "code",
   "execution_count": 4,
   "metadata": {},
   "outputs": [
    {
     "name": "stdout",
     "output_type": "stream",
     "text": [
      "Table created successfully\n"
     ]
    }
   ],
   "source": [
    "\n",
    "cur = conn.cursor()\n",
    "cur.execute('''CREATE TABLE COMPANY\n",
    "       (ID INT PRIMARY KEY     NOT NULL,\n",
    "       NAME           TEXT    NOT NULL,\n",
    "       AGE            INT     NOT NULL,\n",
    "       ADDRESS        CHAR(50),\n",
    "       SALARY         REAL);''')\n",
    "print(\"Table created successfully\")\n",
    "\n",
    "conn.commit()\n",
    "conn.close()"
   ]
  },
  {
   "cell_type": "code",
   "execution_count": 10,
   "metadata": {
    "scrolled": true
   },
   "outputs": [
    {
     "name": "stdout",
     "output_type": "stream",
     "text": [
      "Records created successfully\n"
     ]
    }
   ],
   "source": [
    "conn = psycopg2.connect(database=\"testdb\", user=\"postgres\", password=\"tableau123\", host=\"localhost\", port=\"5432\")\n",
    "cur = conn.cursor()\n",
    "\n",
    "cur.execute(\"INSERT INTO COMPANY (ID,NAME,AGE,ADDRESS,SALARY) \\\n",
    "      VALUES (1, 'Paul', 32, 'California', 20000.00 )\")\n",
    "\n",
    "cur.execute(\"INSERT INTO COMPANY (ID,NAME,AGE,ADDRESS,SALARY) \\\n",
    "      VALUES (2, 'Allen', 25, 'Texas', 15000.00 )\")\n",
    "\n",
    "cur.execute(\"INSERT INTO COMPANY (ID,NAME,AGE,ADDRESS,SALARY) \\\n",
    "      VALUES (3, 'Teddy', 23, 'Norway', 20000.00 )\")\n",
    "\n",
    "cur.execute(\"INSERT INTO COMPANY (ID,NAME,AGE,ADDRESS,SALARY) \\\n",
    "      VALUES (4, 'Mark', 25, 'Rich-Mond ', 65000.00 )\")\n",
    "\n",
    "conn.commit()\n",
    "print(\"Records created successfully\")\n",
    "conn.close()"
   ]
  },
  {
   "cell_type": "code",
   "execution_count": 13,
   "metadata": {},
   "outputs": [
    {
     "name": "stdout",
     "output_type": "stream",
     "text": [
      "ID =  1\n",
      "NAME =  Paul\n",
      "ADDRESS =  California                                        \n",
      "SALARY =  20000.0\n",
      "ID =  2\n",
      "NAME =  Allen\n",
      "ADDRESS =  Texas                                             \n",
      "SALARY =  15000.0\n",
      "ID =  3\n",
      "NAME =  Teddy\n",
      "ADDRESS =  Norway                                            \n",
      "SALARY =  20000.0\n",
      "ID =  4\n",
      "NAME =  Mark\n",
      "ADDRESS =  Rich-Mond                                         \n",
      "SALARY =  65000.0\n",
      "Operation done successfully\n"
     ]
    }
   ],
   "source": [
    "conn = psycopg2.connect(database=\"testdb\", user=\"postgres\", password=\"tableau123\", host=\"localhost\", port=\"5432\")\n",
    "cur = conn.cursor()\n",
    "\n",
    "cur.execute(\"SELECT id, name, address, salary  from COMPANY\")\n",
    "rows = cur.fetchall()\n",
    "for row in rows:\n",
    "   print(\"ID = \", row[0])\n",
    "   print(\"NAME = \", row[1])\n",
    "   print(\"ADDRESS = \", row[2])\n",
    "   print (\"SALARY = \", row[3])\n",
    "\n",
    "print (\"Operation done successfully\")\n",
    "conn.close()"
   ]
  },
  {
   "cell_type": "code",
   "execution_count": 16,
   "metadata": {},
   "outputs": [
    {
     "name": "stdout",
     "output_type": "stream",
     "text": [
      "Total number of rows updated : 1\n",
      "ID =  2\n",
      "NAME =  Allen\n",
      "ADDRESS =  Texas                                             \n",
      "SALARY =  15000.0\n",
      "ID =  3\n",
      "NAME =  Teddy\n",
      "ADDRESS =  Norway                                            \n",
      "SALARY =  20000.0\n",
      "ID =  4\n",
      "NAME =  Mark\n",
      "ADDRESS =  Rich-Mond                                         \n",
      "SALARY =  65000.0\n",
      "ID =  1\n",
      "NAME =  Paul\n",
      "ADDRESS =  California                                        \n",
      "SALARY =  25000.0\n",
      "Operation done successfully\n"
     ]
    }
   ],
   "source": [
    "conn = psycopg2.connect(database=\"testdb\", user=\"postgres\", password=\"tableau123\", host=\"localhost\", port=\"5432\")\n",
    "cur = conn.cursor()\n",
    "\n",
    "cur.execute(\"UPDATE COMPANY set SALARY = 25000.00 where ID=1\")\n",
    "conn.commit\n",
    "print(\"Total number of rows updated :\", cur.rowcount)\n",
    "\n",
    "cur.execute(\"SELECT id, name, address, salary  from COMPANY\")\n",
    "rows = cur.fetchall()\n",
    "for row in rows:\n",
    "   print(\"ID = \", row[0])\n",
    "   print(\"NAME = \", row[1])\n",
    "   print(\"ADDRESS = \", row[2])\n",
    "   print (\"SALARY = \", row[3])\n",
    "\n",
    "print (\"Operation done successfully\")\n",
    "conn.close()"
   ]
  },
  {
   "cell_type": "code",
   "execution_count": 17,
   "metadata": {},
   "outputs": [
    {
     "name": "stdout",
     "output_type": "stream",
     "text": [
      "Total number of rows deleted : 1\n",
      "ID =  1\n",
      "NAME =  Paul\n",
      "ADDRESS =  California                                        \n",
      "SALARY =  20000.0\n",
      "ID =  3\n",
      "NAME =  Teddy\n",
      "ADDRESS =  Norway                                            \n",
      "SALARY =  20000.0\n",
      "ID =  4\n",
      "NAME =  Mark\n",
      "ADDRESS =  Rich-Mond                                         \n",
      "SALARY =  65000.0\n",
      "Operation done successfully\n"
     ]
    }
   ],
   "source": [
    "conn = psycopg2.connect(database=\"testdb\", user=\"postgres\", password=\"tableau123\", host=\"localhost\", port=\"5432\")\n",
    "cur = conn.cursor()\n",
    "\n",
    "cur.execute(\"DELETE from COMPANY where ID=2;\")\n",
    "conn.commit\n",
    "print (\"Total number of rows deleted :\", cur.rowcount)\n",
    "\n",
    "cur.execute(\"SELECT id, name, address, salary  from COMPANY\")\n",
    "rows = cur.fetchall()\n",
    "for row in rows:\n",
    "   print(\"ID = \", row[0])\n",
    "   print(\"NAME = \", row[1])\n",
    "   print(\"ADDRESS = \", row[2])\n",
    "   print (\"SALARY = \", row[3])\n",
    "\n",
    "print (\"Operation done successfully\")\n",
    "conn.close()"
   ]
  },
  {
   "cell_type": "code",
   "execution_count": null,
   "metadata": {
    "collapsed": true
   },
   "outputs": [],
   "source": [
    "#http://tw.gitbook.net/postgresql/2013080998.html"
   ]
  }
 ],
 "metadata": {
  "kernelspec": {
   "display_name": "Python 3",
   "language": "python",
   "name": "python3"
  },
  "language_info": {
   "codemirror_mode": {
    "name": "ipython",
    "version": 3
   },
   "file_extension": ".py",
   "mimetype": "text/x-python",
   "name": "python",
   "nbconvert_exporter": "python",
   "pygments_lexer": "ipython3",
   "version": "3.6.0"
  }
 },
 "nbformat": 4,
 "nbformat_minor": 2
}
